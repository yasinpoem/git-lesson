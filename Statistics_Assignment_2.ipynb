{
  "nbformat": 4,
  "nbformat_minor": 0,
  "metadata": {
    "colab": {
      "name": "Statistics Assignment-2.ipynb",
      "provenance": [],
      "collapsed_sections": [],
      "include_colab_link": true
    },
    "kernelspec": {
      "name": "python3",
      "display_name": "Python 3"
    }
  },
  "cells": [
    {
      "cell_type": "markdown",
      "metadata": {
        "id": "view-in-github",
        "colab_type": "text"
      },
      "source": [
        "<a href=\"https://colab.research.google.com/github/yasinpoem/git-lesson/blob/main/Statistics_Assignment_2.ipynb\" target=\"_parent\"><img src=\"https://colab.research.google.com/assets/colab-badge.svg\" alt=\"Open In Colab\"/></a>"
      ]
    },
    {
      "cell_type": "markdown",
      "metadata": {
        "id": "K7S4cEyZLTp7"
      },
      "source": [
        "## Descriptive Statistics"
      ]
    },
    {
      "cell_type": "code",
      "metadata": {
        "id": "CCZJzVnVT8bw"
      },
      "source": [
        ""
      ],
      "execution_count": null,
      "outputs": []
    },
    {
      "cell_type": "markdown",
      "metadata": {
        "id": "vZRYVyc8H7hi"
      },
      "source": [
        " Import **NumPy**, **SciPy**, and **Pandas**"
      ]
    },
    {
      "cell_type": "code",
      "metadata": {
        "id": "7ShN0klrHIk3"
      },
      "source": [
        "import numpy as np\n",
        "import scipy as sci\n",
        "import pandas as pd"
      ],
      "execution_count": 1,
      "outputs": []
    },
    {
      "cell_type": "markdown",
      "metadata": {
        "id": "_SaQURIqIA6d"
      },
      "source": [
        " Randomly generate 1,000 samples from the normal distribution using `np.random.normal()`(mean = 100, standard deviation = 15)"
      ]
    },
    {
      "cell_type": "code",
      "metadata": {
        "id": "Jyw_FMX0IRkm",
        "outputId": "d9bec0c5-d117-4027-b5e6-cd47e4487662",
        "colab": {
          "base_uri": "https://localhost:8080/"
        }
      },
      "source": [
        "samples =np.random.randint(1,1000,(100,10))\n",
        "samples"
      ],
      "execution_count": 11,
      "outputs": [
        {
          "output_type": "execute_result",
          "data": {
            "text/plain": [
              "array([[ 94, 649, 993, 372, 306, 314, 191, 338, 723, 134],\n",
              "       [589, 416, 853, 322, 382, 598, 338, 545, 998, 695],\n",
              "       [739, 415, 525, 784, 622, 753, 838, 587, 119, 987],\n",
              "       [958, 344, 867, 143, 864, 237, 955, 960, 215, 828],\n",
              "       [648, 475,  22, 354, 136, 137, 969, 920,  10, 331],\n",
              "       [715, 804, 890, 154, 808, 397, 610, 885, 940, 907],\n",
              "       [631, 675, 191, 595, 438, 875, 144, 432, 791, 104],\n",
              "       [349, 236, 258, 509, 326, 890, 962,  67, 315, 212],\n",
              "       [610, 663, 852, 186, 711, 849, 115, 483, 174, 129],\n",
              "       [252, 803, 137,  84, 254, 339, 305, 208, 439, 578],\n",
              "       [176, 676, 839, 532, 972, 788, 795, 511, 316, 874],\n",
              "       [224, 956, 194, 197, 106, 172, 288, 440,  29, 845],\n",
              "       [ 63, 944, 718,  31, 481, 401, 603, 147, 737, 922],\n",
              "       [ 44, 412, 155, 212, 796, 257, 575, 162, 308,  78],\n",
              "       [699, 207, 803, 829, 514, 562, 888, 790, 381, 239],\n",
              "       [222, 121, 924, 832, 596, 317, 155, 712, 320,  80],\n",
              "       [530, 193, 116, 114, 515, 672,  15, 686, 699, 949],\n",
              "       [538, 846, 721, 222, 999,   6, 717, 551, 903, 702],\n",
              "       [847, 564,  71, 396, 403, 881, 656, 704, 844, 365],\n",
              "       [686, 911, 766, 125,  81, 993, 975, 690, 220, 262],\n",
              "       [875, 426, 790, 448,   8, 194, 551, 389, 895, 332],\n",
              "       [807, 791, 859, 983, 207, 338, 475,  32, 797, 631],\n",
              "       [170, 912, 596, 378,  83, 213, 299, 765, 844,  90],\n",
              "       [659, 593, 978, 411, 108, 687, 315, 185, 766, 374],\n",
              "       [197, 582, 703, 261, 341,  42, 122, 764, 877, 361],\n",
              "       [275, 753, 353, 165, 745, 239, 300, 610, 709, 697],\n",
              "       [533, 491, 184, 101, 508,   4, 407, 842, 706, 892],\n",
              "       [437,  79, 835, 134, 433, 430, 833, 886,  89, 559],\n",
              "       [563, 545, 124, 934,  50, 494, 808, 477,   1, 496],\n",
              "       [322, 121,  13, 276, 582, 644, 868, 410, 299, 783],\n",
              "       [408, 948, 663, 296, 426, 168, 852, 582,  95, 787],\n",
              "       [941, 396, 725, 145, 744, 981, 631, 387, 308, 794],\n",
              "       [157, 453, 114, 383, 333, 293, 900, 637, 392, 638],\n",
              "       [794, 958, 735, 500, 903, 435, 841, 262, 791, 101],\n",
              "       [376, 400, 755, 167, 792,  24, 600, 643, 200, 704],\n",
              "       [866,  25, 815, 546, 448, 173, 693, 423, 847, 817],\n",
              "       [474, 704, 388, 546, 948, 465, 241, 491, 610, 774],\n",
              "       [576, 622, 418, 837, 332, 313, 577,  35, 412, 552],\n",
              "       [842, 143, 606, 274, 608,  36, 817, 903, 500, 629],\n",
              "       [973, 111, 547, 676, 995, 282, 636, 560, 200, 419],\n",
              "       [ 13, 111,  56, 769, 818, 444, 592, 544, 947, 909],\n",
              "       [166, 995, 566, 140, 532, 797, 248, 510,  11, 596],\n",
              "       [141, 929, 706, 134, 907, 308, 370, 178, 859, 439],\n",
              "       [ 39, 746, 834, 790, 573, 183, 525, 486, 224, 644],\n",
              "       [648, 566, 837, 862, 628, 924, 912,  50,  77, 388],\n",
              "       [423, 475, 414, 368, 298, 504, 161,  76, 574, 743],\n",
              "       [119, 962, 458, 896, 476, 915, 535, 224, 826, 459],\n",
              "       [179, 571, 529, 287, 952, 467, 558, 149, 375, 241],\n",
              "       [969,  54,  69, 102, 361, 640,  55, 487, 302, 979],\n",
              "       [386,  84, 750, 216, 720, 424,  52, 941, 296, 241],\n",
              "       [929, 527, 867, 862, 366, 133, 899, 175, 627, 229],\n",
              "       [905, 376, 509, 276, 881, 349, 680, 378, 255, 735],\n",
              "       [439,  89, 581,  16, 224, 656, 699, 827, 673, 947],\n",
              "       [520, 935, 449, 378, 929, 269,  86, 323, 252, 874],\n",
              "       [819, 601, 740,  17, 897, 781, 668, 845, 539, 318],\n",
              "       [351, 177, 870, 797,  59, 328, 628, 698, 409, 221],\n",
              "       [823,  49,  72, 242, 460, 289, 220, 297,  41, 605],\n",
              "       [812, 903, 815, 392, 988, 141, 743, 606, 126, 108],\n",
              "       [227, 208, 491, 883, 744,  54, 788, 184,  53,  15],\n",
              "       [611, 261, 445, 163, 186, 681, 433, 266, 608, 607],\n",
              "       [922, 842, 555, 815, 218, 402, 239,  38, 240, 674],\n",
              "       [422,  66, 824, 459, 657, 930, 405, 186, 223, 881],\n",
              "       [899, 327, 717, 876,  31, 109, 319,  38, 833, 602],\n",
              "       [930, 161, 901, 262, 545, 708,  82, 456, 299, 528],\n",
              "       [667, 931, 761, 991, 235, 518, 764, 440, 137, 398],\n",
              "       [317, 756, 209, 839, 259, 158, 829, 843, 812, 547],\n",
              "       [560, 563, 712,  43, 137, 853, 996, 819, 927, 275],\n",
              "       [846, 901, 303, 844, 138,  84, 906, 961, 498, 169],\n",
              "       [797, 116, 927,  12, 570, 767, 306, 172, 177, 657],\n",
              "       [ 21, 796, 879, 627, 252, 262, 735, 107, 173, 499],\n",
              "       [174, 439, 195, 476, 827,  63, 791, 856, 479, 176],\n",
              "       [504,  11, 864, 462,  91, 704, 201, 934,  30, 583],\n",
              "       [744, 659, 962, 890,  66, 955, 164, 423, 740, 332],\n",
              "       [167, 709, 830, 720, 352, 231, 151, 309, 945, 234],\n",
              "       [824, 852, 840, 267, 479, 192, 653,  50, 154, 448],\n",
              "       [878, 296, 435, 436, 516, 349, 705, 970, 653, 746],\n",
              "       [361, 414, 665, 266, 867, 250,   7, 905, 522, 268],\n",
              "       [ 81, 860,   1, 427, 978, 398, 606, 300, 571, 195],\n",
              "       [893, 662, 445, 516, 268, 729, 795, 388, 863, 143],\n",
              "       [395, 255, 307,  98,  65, 210,  51, 423, 806, 809],\n",
              "       [758, 852, 744, 679, 374, 663, 103, 224, 395, 832],\n",
              "       [913, 863, 163, 332,  30, 561, 582, 938, 538, 407],\n",
              "       [ 29, 982,  96, 735, 866, 329, 254, 888, 194, 845],\n",
              "       [259, 324, 929, 506,  50, 659, 567, 524,  62, 341],\n",
              "       [ 49, 834, 181, 437, 477,  91, 221, 485, 390, 678],\n",
              "       [ 72, 783, 505, 169, 439,  92, 682, 944, 971, 153],\n",
              "       [806, 606, 676, 564,  80, 977, 641, 118, 604, 132],\n",
              "       [237, 517, 852, 220, 879, 964, 846, 915,  92, 423],\n",
              "       [510, 226, 472, 784, 277, 740, 171, 185, 544, 761],\n",
              "       [ 95, 873, 183, 282,  93, 478, 222,  46, 381, 336],\n",
              "       [395, 772, 163, 985, 636, 220, 947, 699, 705, 656],\n",
              "       [868,  38, 727, 363,  70, 510, 354, 123, 712, 615],\n",
              "       [844, 527, 376, 737, 244,  10, 938,  99, 823, 192],\n",
              "       [275, 472,  29, 893, 821, 180, 555,  74, 445, 273],\n",
              "       [878, 811, 688, 256, 872, 302,  42, 591, 568, 239],\n",
              "       [874, 532, 119, 915, 497, 433, 730, 911, 490, 121],\n",
              "       [963, 899, 694, 984,   7, 193, 868, 321, 548, 189],\n",
              "       [998,  99, 937, 888, 526, 616, 767, 606, 190, 430],\n",
              "       [172, 138,  66, 195, 415, 956, 190, 227, 659,   1],\n",
              "       [ 39, 466, 943,  45, 496, 621, 346, 229, 718, 319]])"
            ]
          },
          "metadata": {},
          "execution_count": 11
        }
      ]
    },
    {
      "cell_type": "markdown",
      "metadata": {
        "id": "CDF8m3a4IYOC"
      },
      "source": [
        "Compute the **mean**, **median**, and **mode**"
      ]
    },
    {
      "cell_type": "code",
      "metadata": {
        "id": "ZKbeqxaKIoNs",
        "outputId": "9eb0eb30-bad3-4e25-a2c4-1d4507fabfe7",
        "colab": {
          "base_uri": "https://localhost:8080/"
        }
      },
      "source": [
        " np.mean(samples)\n",
        "mean"
      ],
      "execution_count": 15,
      "outputs": [
        {
          "output_type": "execute_result",
          "data": {
            "text/plain": [
              "454.5"
            ]
          },
          "metadata": {},
          "execution_count": 15
        }
      ]
    },
    {
      "cell_type": "code",
      "metadata": {
        "id": "SmgpUSE-Qghv",
        "outputId": "18e46ff6-ae8c-44bc-f3a4-c45bfa3a90cb",
        "colab": {
          "base_uri": "https://localhost:8080/"
        }
      },
      "source": [
        "np.median(samples)\n",
        "median"
      ],
      "execution_count": 16,
      "outputs": [
        {
          "output_type": "execute_result",
          "data": {
            "text/plain": [
              "454.5"
            ]
          },
          "metadata": {},
          "execution_count": 16
        }
      ]
    },
    {
      "cell_type": "code",
      "metadata": {
        "id": "MhSZ6c1EQqGq"
      },
      "source": [
        "from scipy import stats"
      ],
      "execution_count": 19,
      "outputs": []
    },
    {
      "cell_type": "code",
      "metadata": {
        "id": "KIOXc6UERSrk",
        "outputId": "76aac6d6-992c-40cd-b99b-27c5d1d47e68",
        "colab": {
          "base_uri": "https://localhost:8080/"
        }
      },
      "source": [
        "stats.mode(samples)"
      ],
      "execution_count": 20,
      "outputs": [
        {
          "output_type": "execute_result",
          "data": {
            "text/plain": [
              "ModeResult(mode=array([[ 39, 111, 163, 134,  50, 349, 795, 423, 200, 239]]), count=array([[2, 2, 2, 2, 2, 2, 2, 3, 2, 2]]))"
            ]
          },
          "metadata": {},
          "execution_count": 20
        }
      ]
    },
    {
      "cell_type": "code",
      "metadata": {
        "id": "YteP5dKtRdGK",
        "outputId": "26362bfa-1cab-48cf-e1a5-1f5c4d1a93a3",
        "colab": {
          "base_uri": "https://localhost:8080/"
        }
      },
      "source": [
        "stats.describe(samples)"
      ],
      "execution_count": 21,
      "outputs": [
        {
          "output_type": "execute_result",
          "data": {
            "text/plain": [
              "DescribeResult(nobs=100, minmax=(array([13, 11,  1, 12,  7,  4,  7, 32,  1,  1]), array([998, 995, 993, 991, 999, 993, 996, 970, 998, 987])), mean=array([518.14, 532.12, 550.29, 453.39, 476.03, 446.47, 524.43, 481.1 ,\n",
              "       480.04, 490.56]), variance=array([94838.22262626, 88856.18747475, 90998.5110101 , 86311.18979798,\n",
              "       88147.16070707, 81648.63545455, 85480.63141414, 85135.56565657,\n",
              "       83976.76606061, 75398.26909091]), skewness=array([-0.08914392, -0.16745845, -0.38732387,  0.34501173,  0.15412827,\n",
              "        0.34508707, -0.16011826,  0.12674021,  0.04001703,  0.06901067]), kurtosis=array([-1.38081983, -1.23855509, -1.25129369, -1.20103204, -1.13419271,\n",
              "       -1.03873025, -1.29284497, -1.20875286, -1.26357737, -1.23282802]))"
            ]
          },
          "metadata": {},
          "execution_count": 21
        }
      ]
    },
    {
      "cell_type": "markdown",
      "metadata": {
        "id": "skT8m39XI60w"
      },
      "source": [
        "Compute the **min**, **max**, **Q1**, **Q3**, and **interquartile range**"
      ]
    },
    {
      "cell_type": "code",
      "metadata": {
        "id": "WL25eHMfRPBo",
        "outputId": "645d3ea2-1c33-4a14-8ba2-00a0fc07618a",
        "colab": {
          "base_uri": "https://localhost:8080/"
        }
      },
      "source": [
        "np.min(samples)"
      ],
      "execution_count": 22,
      "outputs": [
        {
          "output_type": "execute_result",
          "data": {
            "text/plain": [
              "1"
            ]
          },
          "metadata": {},
          "execution_count": 22
        }
      ]
    },
    {
      "cell_type": "code",
      "metadata": {
        "id": "gY2wszdVRQRp",
        "outputId": "0ff47b0b-ae56-4827-d232-94bfde63f831",
        "colab": {
          "base_uri": "https://localhost:8080/"
        }
      },
      "source": [
        "np.max(samples)"
      ],
      "execution_count": 23,
      "outputs": [
        {
          "output_type": "execute_result",
          "data": {
            "text/plain": [
              "999"
            ]
          },
          "metadata": {},
          "execution_count": 23
        }
      ]
    },
    {
      "cell_type": "code",
      "metadata": {
        "id": "7O4PuEutRRuk",
        "outputId": "e7645b15-6806-4752-fb33-fa7a31d41d38",
        "colab": {
          "base_uri": "https://localhost:8080/"
        }
      },
      "source": [
        "np.percentile(samples, 25)"
      ],
      "execution_count": 25,
      "outputs": [
        {
          "output_type": "execute_result",
          "data": {
            "text/plain": [
              "225.5"
            ]
          },
          "metadata": {},
          "execution_count": 25
        }
      ]
    },
    {
      "cell_type": "code",
      "metadata": {
        "id": "K5iiL3fVQobh",
        "outputId": "6c979c36-352f-4c5c-c162-cba9507c08c2",
        "colab": {
          "base_uri": "https://localhost:8080/"
        }
      },
      "source": [
        "np.percentile(samples,75)"
      ],
      "execution_count": 26,
      "outputs": [
        {
          "output_type": "execute_result",
          "data": {
            "text/plain": [
              "766.0"
            ]
          },
          "metadata": {},
          "execution_count": 26
        }
      ]
    },
    {
      "cell_type": "code",
      "metadata": {
        "id": "LdGWj1FwZlRs",
        "outputId": "167265d1-d53a-4a30-a431-fc607b303a82",
        "colab": {
          "base_uri": "https://localhost:8080/"
        }
      },
      "source": [
        "q3,q1 = np.percentile(samples,[75,25])\n",
        "q3,q1"
      ],
      "execution_count": 29,
      "outputs": [
        {
          "output_type": "execute_result",
          "data": {
            "text/plain": [
              "(766.0, 225.5)"
            ]
          },
          "metadata": {},
          "execution_count": 29
        }
      ]
    },
    {
      "cell_type": "code",
      "metadata": {
        "id": "SaOQoMqzaRO9",
        "outputId": "e0e68202-dfd4-4482-ed2d-446fa008114a",
        "colab": {
          "base_uri": "https://localhost:8080/"
        }
      },
      "source": [
        "iqr = q3 - q1\n",
        "iqr"
      ],
      "execution_count": 30,
      "outputs": [
        {
          "output_type": "execute_result",
          "data": {
            "text/plain": [
              "540.5"
            ]
          },
          "metadata": {},
          "execution_count": 30
        }
      ]
    },
    {
      "cell_type": "code",
      "metadata": {
        "id": "VaiDphm8It0O"
      },
      "source": [
        "min = \n",
        "max =\n",
        "q1 =\n",
        "q3 =\n",
        "iqr ="
      ],
      "execution_count": null,
      "outputs": []
    },
    {
      "cell_type": "markdown",
      "metadata": {
        "id": "m53Dv3n5JHQi"
      },
      "source": [
        "Compute the **variance** and **standard deviation**"
      ]
    },
    {
      "cell_type": "code",
      "metadata": {
        "id": "6JFaAYdrJbeN",
        "outputId": "78032655-f1cd-4753-dbb3-149c6155d3df",
        "colab": {
          "base_uri": "https://localhost:8080/"
        }
      },
      "source": [
        "variance = np.var(samples)\n",
        "variance"
      ],
      "execution_count": 32,
      "outputs": [
        {
          "output_type": "execute_result",
          "data": {
            "text/plain": [
              "86290.216951"
            ]
          },
          "metadata": {},
          "execution_count": 32
        }
      ]
    },
    {
      "cell_type": "code",
      "metadata": {
        "id": "GFRTuu2Wa7G_",
        "outputId": "4342cb8e-e7a4-4ab8-f97d-4136e96066e1",
        "colab": {
          "base_uri": "https://localhost:8080/"
        }
      },
      "source": [
        "std = np.std(samples)\n",
        "std"
      ],
      "execution_count": 33,
      "outputs": [
        {
          "output_type": "execute_result",
          "data": {
            "text/plain": [
              "293.7519650164063"
            ]
          },
          "metadata": {},
          "execution_count": 33
        }
      ]
    },
    {
      "cell_type": "code",
      "metadata": {
        "id": "PV2pFCC6bSmp"
      },
      "source": [
        "from scipy import stats"
      ],
      "execution_count": 34,
      "outputs": []
    },
    {
      "cell_type": "markdown",
      "metadata": {
        "id": "5eup4hI1JzqX"
      },
      "source": [
        "Compute the **skewness** and **kurtosis**"
      ]
    },
    {
      "cell_type": "code",
      "metadata": {
        "id": "YO3obyDnJ3_D",
        "outputId": "38f04327-622a-4b28-86eb-5985ed8b1a2a",
        "colab": {
          "base_uri": "https://localhost:8080/"
        }
      },
      "source": [
        "\n",
        "skewness = stats.skew(samples, bias = False)\n",
        "skewness"
      ],
      "execution_count": 39,
      "outputs": [
        {
          "output_type": "execute_result",
          "data": {
            "text/plain": [
              "array([-0.09050723, -0.17001944, -0.39324733,  0.3502881 ,  0.1564854 ,\n",
              "        0.35036459, -0.162567  ,  0.12867848,  0.04062902,  0.07006607])"
            ]
          },
          "metadata": {},
          "execution_count": 39
        }
      ]
    },
    {
      "cell_type": "code",
      "metadata": {
        "id": "Fw388q3FbRTO",
        "outputId": "33fa90c2-4a4f-4ce4-b5b1-5010269d0ea0",
        "colab": {
          "base_uri": "https://localhost:8080/"
        }
      },
      "source": [
        "kurtosis = stats.kurtosis(samples, bias = False)\n",
        "kurtosis"
      ],
      "execution_count": 40,
      "outputs": [
        {
          "output_type": "execute_result",
          "data": {
            "text/plain": [
              "array([-1.38994503, -1.24030217, -1.25370141, -1.20083309, -1.13052734,\n",
              "       -1.03011401, -1.29740762, -1.20895433, -1.26662214, -1.23427807])"
            ]
          },
          "metadata": {},
          "execution_count": 40
        }
      ]
    },
    {
      "cell_type": "markdown",
      "metadata": {
        "id": "a5UNc8PUKnbU"
      },
      "source": [
        "## NumPy Correlation Calculation"
      ]
    },
    {
      "cell_type": "markdown",
      "metadata": {
        "id": "cLiqxE1CMNTg"
      },
      "source": [
        "Create an array x of integers between 10 (inclusive) and 20 (exclusive). Use `np.arange()`"
      ]
    },
    {
      "cell_type": "code",
      "metadata": {
        "id": "5LAaQ6w5L-2L",
        "outputId": "2e7025fd-b803-4f1d-d27f-a8b9486afdcc",
        "colab": {
          "base_uri": "https://localhost:8080/"
        }
      },
      "source": [
        "x = np.arange(10,20)\n",
        "x\n"
      ],
      "execution_count": 42,
      "outputs": [
        {
          "output_type": "execute_result",
          "data": {
            "text/plain": [
              "array([10, 11, 12, 13, 14, 15, 16, 17, 18, 19])"
            ]
          },
          "metadata": {},
          "execution_count": 42
        }
      ]
    },
    {
      "cell_type": "code",
      "metadata": {
        "id": "waqKgF7Lf8za",
        "outputId": "3513f4db-ffa2-43fa-cda8-b6354a80b060",
        "colab": {
          "base_uri": "https://localhost:8080/"
        }
      },
      "source": [
        "import pandas as pd\n",
        "pd.Series(x)"
      ],
      "execution_count": 59,
      "outputs": [
        {
          "output_type": "execute_result",
          "data": {
            "text/plain": [
              "0    10\n",
              "1    11\n",
              "2    12\n",
              "3    13\n",
              "4    14\n",
              "5    15\n",
              "6    16\n",
              "7    17\n",
              "8    18\n",
              "9    19\n",
              "dtype: int64"
            ]
          },
          "metadata": {},
          "execution_count": 59
        }
      ]
    },
    {
      "cell_type": "markdown",
      "metadata": {
        "id": "qyCIaukNMZPf"
      },
      "source": [
        "Then use `np.array()` to create a second array y containing 10 arbitrary integers."
      ]
    },
    {
      "cell_type": "code",
      "metadata": {
        "id": "p27eW__gNMdh",
        "outputId": "e2058768-8707-45c4-dc8d-63993bdad90d",
        "colab": {
          "base_uri": "https://localhost:8080/"
        }
      },
      "source": [
        "y = np.array(range(10))\n",
        "y\n"
      ],
      "execution_count": 51,
      "outputs": [
        {
          "output_type": "execute_result",
          "data": {
            "text/plain": [
              "array([0, 1, 2, 3, 4, 5, 6, 7, 8, 9])"
            ]
          },
          "metadata": {},
          "execution_count": 51
        }
      ]
    },
    {
      "cell_type": "code",
      "metadata": {
        "id": "gIMZOgLsgRII",
        "outputId": "4ac8279b-4821-4c12-9624-a19c2fd4cfdc",
        "colab": {
          "base_uri": "https://localhost:8080/"
        }
      },
      "source": [
        "import pandas as pd\n",
        "pd.Series(y)\n"
      ],
      "execution_count": 60,
      "outputs": [
        {
          "output_type": "execute_result",
          "data": {
            "text/plain": [
              "0    0\n",
              "1    1\n",
              "2    2\n",
              "3    3\n",
              "4    4\n",
              "5    5\n",
              "6    6\n",
              "7    7\n",
              "8    8\n",
              "9    9\n",
              "dtype: int64"
            ]
          },
          "metadata": {},
          "execution_count": 60
        }
      ]
    },
    {
      "cell_type": "code",
      "metadata": {
        "id": "tGkV9dLigf_x"
      },
      "source": [
        ""
      ],
      "execution_count": 62,
      "outputs": []
    },
    {
      "cell_type": "markdown",
      "metadata": {
        "id": "Kh_VeKwINSqS"
      },
      "source": [
        "Once you have two arrays of the same length, you can compute the **correlation coefficient** between x and y"
      ]
    },
    {
      "cell_type": "code",
      "metadata": {
        "id": "yrtC6rPkNSDC"
      },
      "source": [
        ""
      ],
      "execution_count": 62,
      "outputs": []
    },
    {
      "cell_type": "markdown",
      "metadata": {
        "id": "vXieLjYiNtPi"
      },
      "source": [
        "## Pandas Correlation Calculation"
      ]
    },
    {
      "cell_type": "markdown",
      "metadata": {
        "id": "z56t0k0qNvkr"
      },
      "source": [
        "Run the code below"
      ]
    },
    {
      "cell_type": "code",
      "metadata": {
        "id": "9AVBMJCyNuwb"
      },
      "source": [
        "x = pd.Series(range(10, 20))\n",
        "y = pd.Series([2, 1, 4, 5, 8, 12, 18, 25, 96, 48])"
      ],
      "execution_count": null,
      "outputs": []
    },
    {
      "cell_type": "markdown",
      "metadata": {
        "id": "ZajVXYe2OCih"
      },
      "source": [
        "Call the relevant method  to calculate Pearson's r correlation."
      ]
    },
    {
      "cell_type": "code",
      "metadata": {
        "id": "Ak_rkzbLOafj",
        "outputId": "3ca42c22-fbec-4cae-b8d2-95b9e89171b1",
        "colab": {
          "base_uri": "https://localhost:8080/",
          "height": 357
        }
      },
      "source": [
        "from scipy import stats\n",
        "r = x.corr(y,method= \"pearson\")\n",
        "r"
      ],
      "execution_count": 65,
      "outputs": [
        {
          "output_type": "error",
          "ename": "TypeError",
          "evalue": "ignored",
          "traceback": [
            "\u001b[0;31m---------------------------------------------------------------------------\u001b[0m",
            "\u001b[0;31mTypeError\u001b[0m                                 Traceback (most recent call last)",
            "\u001b[0;32m<ipython-input-65-4869a46ab16a>\u001b[0m in \u001b[0;36m<module>\u001b[0;34m()\u001b[0m\n\u001b[1;32m      1\u001b[0m \u001b[0;32mfrom\u001b[0m \u001b[0mscipy\u001b[0m \u001b[0;32mimport\u001b[0m \u001b[0mstats\u001b[0m\u001b[0;34m\u001b[0m\u001b[0;34m\u001b[0m\u001b[0m\n\u001b[0;32m----> 2\u001b[0;31m \u001b[0mr\u001b[0m \u001b[0;34m=\u001b[0m \u001b[0mx\u001b[0m\u001b[0;34m.\u001b[0m\u001b[0mcorr\u001b[0m\u001b[0;34m(\u001b[0m\u001b[0my\u001b[0m\u001b[0;34m,\u001b[0m\u001b[0mmethod\u001b[0m\u001b[0;34m=\u001b[0m \u001b[0;34m\"pearson\"\u001b[0m\u001b[0;34m)\u001b[0m\u001b[0;34m\u001b[0m\u001b[0;34m\u001b[0m\u001b[0m\n\u001b[0m\u001b[1;32m      3\u001b[0m \u001b[0mr\u001b[0m\u001b[0;34m\u001b[0m\u001b[0;34m\u001b[0m\u001b[0m\n",
            "\u001b[0;32m/usr/local/lib/python3.7/dist-packages/pandas/core/series.py\u001b[0m in \u001b[0;36mcorr\u001b[0;34m(self, other, method, min_periods)\u001b[0m\n\u001b[1;32m   2327\u001b[0m         \u001b[0;36m0.3\u001b[0m\u001b[0;34m\u001b[0m\u001b[0;34m\u001b[0m\u001b[0m\n\u001b[1;32m   2328\u001b[0m         \"\"\"\n\u001b[0;32m-> 2329\u001b[0;31m         \u001b[0mthis\u001b[0m\u001b[0;34m,\u001b[0m \u001b[0mother\u001b[0m \u001b[0;34m=\u001b[0m \u001b[0mself\u001b[0m\u001b[0;34m.\u001b[0m\u001b[0malign\u001b[0m\u001b[0;34m(\u001b[0m\u001b[0mother\u001b[0m\u001b[0;34m,\u001b[0m \u001b[0mjoin\u001b[0m\u001b[0;34m=\u001b[0m\u001b[0;34m\"inner\"\u001b[0m\u001b[0;34m,\u001b[0m \u001b[0mcopy\u001b[0m\u001b[0;34m=\u001b[0m\u001b[0;32mFalse\u001b[0m\u001b[0;34m)\u001b[0m\u001b[0;34m\u001b[0m\u001b[0;34m\u001b[0m\u001b[0m\n\u001b[0m\u001b[1;32m   2330\u001b[0m         \u001b[0;32mif\u001b[0m \u001b[0mlen\u001b[0m\u001b[0;34m(\u001b[0m\u001b[0mthis\u001b[0m\u001b[0;34m)\u001b[0m \u001b[0;34m==\u001b[0m \u001b[0;36m0\u001b[0m\u001b[0;34m:\u001b[0m\u001b[0;34m\u001b[0m\u001b[0;34m\u001b[0m\u001b[0m\n\u001b[1;32m   2331\u001b[0m             \u001b[0;32mreturn\u001b[0m \u001b[0mnp\u001b[0m\u001b[0;34m.\u001b[0m\u001b[0mnan\u001b[0m\u001b[0;34m\u001b[0m\u001b[0;34m\u001b[0m\u001b[0m\n",
            "\u001b[0;32m/usr/local/lib/python3.7/dist-packages/pandas/core/series.py\u001b[0m in \u001b[0;36malign\u001b[0;34m(self, other, join, axis, level, copy, fill_value, method, limit, fill_axis, broadcast_axis)\u001b[0m\n\u001b[1;32m   4295\u001b[0m             \u001b[0mlimit\u001b[0m\u001b[0;34m=\u001b[0m\u001b[0mlimit\u001b[0m\u001b[0;34m,\u001b[0m\u001b[0;34m\u001b[0m\u001b[0;34m\u001b[0m\u001b[0m\n\u001b[1;32m   4296\u001b[0m             \u001b[0mfill_axis\u001b[0m\u001b[0;34m=\u001b[0m\u001b[0mfill_axis\u001b[0m\u001b[0;34m,\u001b[0m\u001b[0;34m\u001b[0m\u001b[0;34m\u001b[0m\u001b[0m\n\u001b[0;32m-> 4297\u001b[0;31m             \u001b[0mbroadcast_axis\u001b[0m\u001b[0;34m=\u001b[0m\u001b[0mbroadcast_axis\u001b[0m\u001b[0;34m,\u001b[0m\u001b[0;34m\u001b[0m\u001b[0;34m\u001b[0m\u001b[0m\n\u001b[0m\u001b[1;32m   4298\u001b[0m         )\n\u001b[1;32m   4299\u001b[0m \u001b[0;34m\u001b[0m\u001b[0m\n",
            "\u001b[0;32m/usr/local/lib/python3.7/dist-packages/pandas/core/generic.py\u001b[0m in \u001b[0;36malign\u001b[0;34m(self, other, join, axis, level, copy, fill_value, method, limit, fill_axis, broadcast_axis)\u001b[0m\n\u001b[1;32m   8575\u001b[0m             )\n\u001b[1;32m   8576\u001b[0m         \u001b[0;32melse\u001b[0m\u001b[0;34m:\u001b[0m  \u001b[0;31m# pragma: no cover\u001b[0m\u001b[0;34m\u001b[0m\u001b[0;34m\u001b[0m\u001b[0m\n\u001b[0;32m-> 8577\u001b[0;31m             \u001b[0;32mraise\u001b[0m \u001b[0mTypeError\u001b[0m\u001b[0;34m(\u001b[0m\u001b[0;34mf\"unsupported type: {type(other)}\"\u001b[0m\u001b[0;34m)\u001b[0m\u001b[0;34m\u001b[0m\u001b[0;34m\u001b[0m\u001b[0m\n\u001b[0m\u001b[1;32m   8578\u001b[0m \u001b[0;34m\u001b[0m\u001b[0m\n\u001b[1;32m   8579\u001b[0m     def _align_frame(\n",
            "\u001b[0;31mTypeError\u001b[0m: unsupported type: <class 'numpy.ndarray'>"
          ]
        }
      ]
    },
    {
      "cell_type": "markdown",
      "metadata": {
        "id": "1CygSbnROb9V"
      },
      "source": [
        "OPTIONAL. Call the relevant method to calculate Spearman's rho correlation."
      ]
    },
    {
      "cell_type": "code",
      "metadata": {
        "id": "xp_QkXwmOlYY"
      },
      "source": [
        "rho ="
      ],
      "execution_count": null,
      "outputs": []
    },
    {
      "cell_type": "markdown",
      "metadata": {
        "id": "we7pg7kdOo7y"
      },
      "source": [
        "## Seaborn Dataset Tips"
      ]
    },
    {
      "cell_type": "markdown",
      "metadata": {
        "id": "VlzgFKN7OvqX"
      },
      "source": [
        "Import Seaborn Library"
      ]
    },
    {
      "cell_type": "code",
      "metadata": {
        "id": "t-49JRRqO4pw"
      },
      "source": [
        "import seaborn as sns"
      ],
      "execution_count": null,
      "outputs": []
    },
    {
      "cell_type": "markdown",
      "metadata": {
        "id": "0INVBB4tO4y4"
      },
      "source": [
        "Load \"tips\" dataset from Seaborn"
      ]
    },
    {
      "cell_type": "code",
      "metadata": {
        "id": "kieLvcM1PBv7",
        "outputId": "0588a291-1c2f-4962-db07-746885e9e92a",
        "colab": {
          "base_uri": "https://localhost:8080/",
          "height": 163
        }
      },
      "source": [
        "tips = sns.load_dataset(\"tips\")\n"
      ],
      "execution_count": 66,
      "outputs": [
        {
          "output_type": "error",
          "ename": "NameError",
          "evalue": "ignored",
          "traceback": [
            "\u001b[0;31m---------------------------------------------------------------------------\u001b[0m",
            "\u001b[0;31mNameError\u001b[0m                                 Traceback (most recent call last)",
            "\u001b[0;32m<ipython-input-66-c8bcbf89f996>\u001b[0m in \u001b[0;36m<module>\u001b[0;34m()\u001b[0m\n\u001b[0;32m----> 1\u001b[0;31m \u001b[0mtips\u001b[0m \u001b[0;34m=\u001b[0m \u001b[0msns\u001b[0m\u001b[0;34m.\u001b[0m\u001b[0mload_dataset\u001b[0m\u001b[0;34m(\u001b[0m\u001b[0;34m\"tips\"\u001b[0m\u001b[0;34m)\u001b[0m\u001b[0;34m\u001b[0m\u001b[0;34m\u001b[0m\u001b[0m\n\u001b[0m",
            "\u001b[0;31mNameError\u001b[0m: name 'sns' is not defined"
          ]
        }
      ]
    },
    {
      "cell_type": "markdown",
      "metadata": {
        "id": "o2ISqVQrPh5S"
      },
      "source": [
        "Generate descriptive statistics include those that summarize the central tendency, dispersion"
      ]
    },
    {
      "cell_type": "code",
      "metadata": {
        "id": "FyFvmdbJPVg6"
      },
      "source": [
        ""
      ],
      "execution_count": null,
      "outputs": []
    },
    {
      "cell_type": "markdown",
      "metadata": {
        "id": "3yCRK4VJPzRo"
      },
      "source": [
        "Call the relevant method to calculate pairwise Pearson's r correlation of columns"
      ]
    },
    {
      "cell_type": "code",
      "metadata": {
        "id": "qwvGzDU8PGnM"
      },
      "source": [
        ""
      ],
      "execution_count": null,
      "outputs": []
    }
  ]
}